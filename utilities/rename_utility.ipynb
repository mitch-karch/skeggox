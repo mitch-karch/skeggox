{
 "cells": [
  {
   "cell_type": "code",
   "execution_count": 1,
   "id": "7b82fc1c",
   "metadata": {},
   "outputs": [],
   "source": [
    "import csv"
   ]
  },
  {
   "cell_type": "code",
   "execution_count": 2,
   "id": "df63a0b3",
   "metadata": {},
   "outputs": [],
   "source": [
    "IDs = {}\n",
    "\n",
    "#open and store the csv file\n",
    "with open('renames.csv','r') as csvfile:\n",
    "    timeReader = csv.reader(csvfile, delimiter = ',')\n",
    "\n",
    "    # build a dictionary with the associated IDs\n",
    "    for row in timeReader:\n",
    "        \n",
    "        IDs[ row[0] ] = row[1]"
   ]
  },
  {
   "cell_type": "code",
   "execution_count": 3,
   "id": "49e331b9",
   "metadata": {},
   "outputs": [],
   "source": [
    "import os"
   ]
  },
  {
   "cell_type": "code",
   "execution_count": 4,
   "id": "c25156eb",
   "metadata": {},
   "outputs": [],
   "source": [
    "for filename in os.listdir():\n",
    "    if filename in IDs:\n",
    "        try:\n",
    "            os.rename(filename,IDs[filename])\n",
    "        except:\n",
    "            print('File ' + filename + ' could not be renamed to ' + IDs[filename] + '!')"
   ]
  }
 ],
 "metadata": {
  "kernelspec": {
   "display_name": "Python 3",
   "language": "python",
   "name": "python3"
  },
  "language_info": {
   "codemirror_mode": {
    "name": "ipython",
    "version": 3
   },
   "file_extension": ".py",
   "mimetype": "text/x-python",
   "name": "python",
   "nbconvert_exporter": "python",
   "pygments_lexer": "ipython3",
   "version": "3.9.7"
  }
 },
 "nbformat": 4,
 "nbformat_minor": 5
}
