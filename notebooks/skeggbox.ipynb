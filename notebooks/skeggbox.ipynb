{
  "nbformat": 4,
  "nbformat_minor": 5,
  "metadata": {
    "accelerator": "GPU",
    "colab": {
      "name": "skeggbox_v4.ipynb",
      "provenance": [],
      "collapsed_sections": [
        "MMfdq8VJV0Jf",
        "PfKQJU2DRJA1",
        "5PLY3SmuegXa",
        "-UurKZ8vUlH9",
        "H0A670XhUjOm"
      ],
      "machine_shape": "hm"
    },
    "kernelspec": {
      "display_name": "Python 3",
      "language": "python",
      "name": "python3"
    },
    "language_info": {
      "codemirror_mode": {
        "name": "ipython",
        "version": 3
      },
      "file_extension": ".py",
      "mimetype": "text/x-python",
      "name": "python",
      "nbconvert_exporter": "python",
      "pygments_lexer": "ipython3",
      "version": "3.7.10"
    },
    "papermill": {
      "default_parameters": {},
      "duration": 5762.11516,
      "end_time": "2021-10-13T11:11:14.125817",
      "environment_variables": {},
      "exception": null,
      "input_path": "__notebook__.ipynb",
      "output_path": "__notebook__.ipynb",
      "parameters": {},
      "start_time": "2021-10-13T09:35:12.010657",
      "version": "2.3.3"
    },
    "widgets": {
      "application/vnd.jupyter.widget-state+json": {
        "20550ade432a4d8e92a9b870962b70eb": {
          "model_module": "@jupyter-widgets/controls",
          "model_name": "HBoxModel",
          "model_module_version": "1.5.0",
          "state": {
            "_dom_classes": [],
            "_model_module": "@jupyter-widgets/controls",
            "_model_module_version": "1.5.0",
            "_model_name": "HBoxModel",
            "_view_count": null,
            "_view_module": "@jupyter-widgets/controls",
            "_view_module_version": "1.5.0",
            "_view_name": "HBoxView",
            "box_style": "",
            "children": [
              "IPY_MODEL_f1cccf2cdcb041f1bce35d5787bba857",
              "IPY_MODEL_05a4cd30fc1e4d688a4c8f6ed5aa7c32",
              "IPY_MODEL_749b277ffb0b4f6b87429d0405ce6406"
            ],
            "layout": "IPY_MODEL_03e6207be5cd4977a409276849ec9a65"
          }
        },
        "f1cccf2cdcb041f1bce35d5787bba857": {
          "model_module": "@jupyter-widgets/controls",
          "model_name": "HTMLModel",
          "model_module_version": "1.5.0",
          "state": {
            "_dom_classes": [],
            "_model_module": "@jupyter-widgets/controls",
            "_model_module_version": "1.5.0",
            "_model_name": "HTMLModel",
            "_view_count": null,
            "_view_module": "@jupyter-widgets/controls",
            "_view_module_version": "1.5.0",
            "_view_name": "HTMLView",
            "description": "",
            "description_tooltip": null,
            "layout": "IPY_MODEL_52a9944768894b658aa91b64b33b8751",
            "placeholder": "​",
            "style": "IPY_MODEL_f79b48b3d52f4ec5b4aea06d04caf0b7",
            "value": "100%"
          }
        },
        "05a4cd30fc1e4d688a4c8f6ed5aa7c32": {
          "model_module": "@jupyter-widgets/controls",
          "model_name": "FloatProgressModel",
          "model_module_version": "1.5.0",
          "state": {
            "_dom_classes": [],
            "_model_module": "@jupyter-widgets/controls",
            "_model_module_version": "1.5.0",
            "_model_name": "FloatProgressModel",
            "_view_count": null,
            "_view_module": "@jupyter-widgets/controls",
            "_view_module_version": "1.5.0",
            "_view_name": "ProgressView",
            "bar_style": "success",
            "description": "",
            "description_tooltip": null,
            "layout": "IPY_MODEL_d5e869a4f4054c8baf85dd53d4d2fb97",
            "max": 31,
            "min": 0,
            "orientation": "horizontal",
            "style": "IPY_MODEL_5d14a7bf8cc24623af8732203be52b40",
            "value": 31
          }
        },
        "749b277ffb0b4f6b87429d0405ce6406": {
          "model_module": "@jupyter-widgets/controls",
          "model_name": "HTMLModel",
          "model_module_version": "1.5.0",
          "state": {
            "_dom_classes": [],
            "_model_module": "@jupyter-widgets/controls",
            "_model_module_version": "1.5.0",
            "_model_name": "HTMLModel",
            "_view_count": null,
            "_view_module": "@jupyter-widgets/controls",
            "_view_module_version": "1.5.0",
            "_view_name": "HTMLView",
            "description": "",
            "description_tooltip": null,
            "layout": "IPY_MODEL_930ddc2680644b828d33d07928bb5597",
            "placeholder": "​",
            "style": "IPY_MODEL_f9f99b1878ae4418b6473e1061096d0f",
            "value": " 31/31 [00:03&lt;00:00, 17.91it/s]"
          }
        },
        "03e6207be5cd4977a409276849ec9a65": {
          "model_module": "@jupyter-widgets/base",
          "model_name": "LayoutModel",
          "model_module_version": "1.2.0",
          "state": {
            "_model_module": "@jupyter-widgets/base",
            "_model_module_version": "1.2.0",
            "_model_name": "LayoutModel",
            "_view_count": null,
            "_view_module": "@jupyter-widgets/base",
            "_view_module_version": "1.2.0",
            "_view_name": "LayoutView",
            "align_content": null,
            "align_items": null,
            "align_self": null,
            "border": null,
            "bottom": null,
            "display": null,
            "flex": null,
            "flex_flow": null,
            "grid_area": null,
            "grid_auto_columns": null,
            "grid_auto_flow": null,
            "grid_auto_rows": null,
            "grid_column": null,
            "grid_gap": null,
            "grid_row": null,
            "grid_template_areas": null,
            "grid_template_columns": null,
            "grid_template_rows": null,
            "height": null,
            "justify_content": null,
            "justify_items": null,
            "left": null,
            "margin": null,
            "max_height": null,
            "max_width": null,
            "min_height": null,
            "min_width": null,
            "object_fit": null,
            "object_position": null,
            "order": null,
            "overflow": null,
            "overflow_x": null,
            "overflow_y": null,
            "padding": null,
            "right": null,
            "top": null,
            "visibility": null,
            "width": null
          }
        },
        "52a9944768894b658aa91b64b33b8751": {
          "model_module": "@jupyter-widgets/base",
          "model_name": "LayoutModel",
          "model_module_version": "1.2.0",
          "state": {
            "_model_module": "@jupyter-widgets/base",
            "_model_module_version": "1.2.0",
            "_model_name": "LayoutModel",
            "_view_count": null,
            "_view_module": "@jupyter-widgets/base",
            "_view_module_version": "1.2.0",
            "_view_name": "LayoutView",
            "align_content": null,
            "align_items": null,
            "align_self": null,
            "border": null,
            "bottom": null,
            "display": null,
            "flex": null,
            "flex_flow": null,
            "grid_area": null,
            "grid_auto_columns": null,
            "grid_auto_flow": null,
            "grid_auto_rows": null,
            "grid_column": null,
            "grid_gap": null,
            "grid_row": null,
            "grid_template_areas": null,
            "grid_template_columns": null,
            "grid_template_rows": null,
            "height": null,
            "justify_content": null,
            "justify_items": null,
            "left": null,
            "margin": null,
            "max_height": null,
            "max_width": null,
            "min_height": null,
            "min_width": null,
            "object_fit": null,
            "object_position": null,
            "order": null,
            "overflow": null,
            "overflow_x": null,
            "overflow_y": null,
            "padding": null,
            "right": null,
            "top": null,
            "visibility": null,
            "width": null
          }
        },
        "f79b48b3d52f4ec5b4aea06d04caf0b7": {
          "model_module": "@jupyter-widgets/controls",
          "model_name": "DescriptionStyleModel",
          "model_module_version": "1.5.0",
          "state": {
            "_model_module": "@jupyter-widgets/controls",
            "_model_module_version": "1.5.0",
            "_model_name": "DescriptionStyleModel",
            "_view_count": null,
            "_view_module": "@jupyter-widgets/base",
            "_view_module_version": "1.2.0",
            "_view_name": "StyleView",
            "description_width": ""
          }
        },
        "d5e869a4f4054c8baf85dd53d4d2fb97": {
          "model_module": "@jupyter-widgets/base",
          "model_name": "LayoutModel",
          "model_module_version": "1.2.0",
          "state": {
            "_model_module": "@jupyter-widgets/base",
            "_model_module_version": "1.2.0",
            "_model_name": "LayoutModel",
            "_view_count": null,
            "_view_module": "@jupyter-widgets/base",
            "_view_module_version": "1.2.0",
            "_view_name": "LayoutView",
            "align_content": null,
            "align_items": null,
            "align_self": null,
            "border": null,
            "bottom": null,
            "display": null,
            "flex": null,
            "flex_flow": null,
            "grid_area": null,
            "grid_auto_columns": null,
            "grid_auto_flow": null,
            "grid_auto_rows": null,
            "grid_column": null,
            "grid_gap": null,
            "grid_row": null,
            "grid_template_areas": null,
            "grid_template_columns": null,
            "grid_template_rows": null,
            "height": null,
            "justify_content": null,
            "justify_items": null,
            "left": null,
            "margin": null,
            "max_height": null,
            "max_width": null,
            "min_height": null,
            "min_width": null,
            "object_fit": null,
            "object_position": null,
            "order": null,
            "overflow": null,
            "overflow_x": null,
            "overflow_y": null,
            "padding": null,
            "right": null,
            "top": null,
            "visibility": null,
            "width": null
          }
        },
        "5d14a7bf8cc24623af8732203be52b40": {
          "model_module": "@jupyter-widgets/controls",
          "model_name": "ProgressStyleModel",
          "model_module_version": "1.5.0",
          "state": {
            "_model_module": "@jupyter-widgets/controls",
            "_model_module_version": "1.5.0",
            "_model_name": "ProgressStyleModel",
            "_view_count": null,
            "_view_module": "@jupyter-widgets/base",
            "_view_module_version": "1.2.0",
            "_view_name": "StyleView",
            "bar_color": null,
            "description_width": ""
          }
        },
        "930ddc2680644b828d33d07928bb5597": {
          "model_module": "@jupyter-widgets/base",
          "model_name": "LayoutModel",
          "model_module_version": "1.2.0",
          "state": {
            "_model_module": "@jupyter-widgets/base",
            "_model_module_version": "1.2.0",
            "_model_name": "LayoutModel",
            "_view_count": null,
            "_view_module": "@jupyter-widgets/base",
            "_view_module_version": "1.2.0",
            "_view_name": "LayoutView",
            "align_content": null,
            "align_items": null,
            "align_self": null,
            "border": null,
            "bottom": null,
            "display": null,
            "flex": null,
            "flex_flow": null,
            "grid_area": null,
            "grid_auto_columns": null,
            "grid_auto_flow": null,
            "grid_auto_rows": null,
            "grid_column": null,
            "grid_gap": null,
            "grid_row": null,
            "grid_template_areas": null,
            "grid_template_columns": null,
            "grid_template_rows": null,
            "height": null,
            "justify_content": null,
            "justify_items": null,
            "left": null,
            "margin": null,
            "max_height": null,
            "max_width": null,
            "min_height": null,
            "min_width": null,
            "object_fit": null,
            "object_position": null,
            "order": null,
            "overflow": null,
            "overflow_x": null,
            "overflow_y": null,
            "padding": null,
            "right": null,
            "top": null,
            "visibility": null,
            "width": null
          }
        },
        "f9f99b1878ae4418b6473e1061096d0f": {
          "model_module": "@jupyter-widgets/controls",
          "model_name": "DescriptionStyleModel",
          "model_module_version": "1.5.0",
          "state": {
            "_model_module": "@jupyter-widgets/controls",
            "_model_module_version": "1.5.0",
            "_model_name": "DescriptionStyleModel",
            "_view_count": null,
            "_view_module": "@jupyter-widgets/base",
            "_view_module_version": "1.2.0",
            "_view_name": "StyleView",
            "description_width": ""
          }
        }
      }
    }
  },
  "cells": [
    {
      "cell_type": "markdown",
      "metadata": {
        "id": "9fb90bd5"
      },
      "source": [
        "# W251 - Final Projects - Skeggox Team\n",
        "\n",
        "* Parham Motameni \n",
        "* Mitchell Karchemsky\n",
        "* Lynn Marciano\n",
        "\n",
        "The majority of parameters can be configured, including some of the optimization techniques. Check out the configuration section for details.\n"
      ],
      "id": "9fb90bd5"
    },
    {
      "cell_type": "markdown",
      "metadata": {
        "id": "SpDdqAccbpk3"
      },
      "source": [
        "# Setup steps and import libraries"
      ],
      "id": "SpDdqAccbpk3"
    },
    {
      "cell_type": "code",
      "metadata": {
        "id": "JBSS0poUHEoo"
      },
      "source": [
        "%%capture\n",
        "from pathlib import Path\n",
        "data_path = 'grab.zip'\n",
        "data_file = Path(data_path)\n",
        "if data_file.is_file():\n",
        "  print(\"Data file is already loaded.\")\n",
        "else :\n",
        "  !pip install timm\n",
        "  !pip install albumentations==0.4.6\n",
        "  !pip install gdown\n",
        "  !mkdir -p 'grab'\n",
        "  !mkdir -p 'checkpoints'\n",
        "  !gdown --id '1c8thCkdHJaoF4hLffi8ne-ULh4FPrPdy' # images\n",
        "  !unzip -qq 'grab.zip'\n",
        "  !gdown --id '1Yf-IiNncjaHKI_qQq76p4wmW-FHTZSQu' #checkpoint\n",
        "  !mv 'checkpoint.pth.tar' 'checkpoints/'"
      ],
      "id": "JBSS0poUHEoo",
      "execution_count": null,
      "outputs": []
    },
    {
      "cell_type": "code",
      "metadata": {
        "colab": {
          "background_save": true
        },
        "id": "59c721ae"
      },
      "source": [
        "import time\n",
        "import os\n",
        "from tqdm import tqdm_notebook as tqdm\n",
        "#import tqdm.notebook import tqdm\n",
        "import cv2\n",
        "from PIL import Image\n",
        "import pandas as pd\n",
        "import torch\n",
        "import albumentations as A\n",
        "from albumentations.pytorch import ToTensorV2\n",
        "from torch.utils.data import DataLoader, Dataset\n",
        "from torch.optim import lr_scheduler\n",
        "import matplotlib.pyplot as plt\n",
        "import random\n",
        "import numpy as np\n",
        "import seaborn as sn\n",
        "from sklearn.metrics import confusion_matrix\n",
        "from sklearn.model_selection import train_test_split\n",
        "import shutil\n",
        "import timm\n",
        "import torch.nn.functional as F\n",
        "from torch.nn.modules.loss import _WeightedLoss\n",
        "import torchvision.datasets as datasets\n",
        "from timm.scheduler.cosine_lr import CosineLRScheduler\n",
        "from torch.cuda.amp import autocast, GradScaler\n",
        "import torch.backends.cudnn as cudnn\n",
        "import torchvision.models as models\n",
        "import torch.nn as nn\n",
        "import torchvision.transforms as transforms\n",
        "import warnings\n",
        "\n",
        "\n",
        "warnings.filterwarnings('ignore')\n",
        "%matplotlib inline"
      ],
      "id": "59c721ae",
      "execution_count": null,
      "outputs": []
    },
    {
      "cell_type": "markdown",
      "metadata": {
        "id": "1-fLya6iLTjj"
      },
      "source": [
        "# Configuration\n",
        "\n",
        "The majority of parameters can be configured, including some of the optimization techniques.\n",
        "\n",
        "The following optimizations can be used by setting proper configuration arguments\n",
        "1. Learning Rate Schedular - Step Schedular or CosineLRScheduler\n",
        "2. Different arch using mixnet_xl \n",
        "\n",
        "The following optimizations are applied \n",
        "1. Mixup\n",
        "2. Label Smoothing\n",
        "3. Scaler for Mixed Precision"
      ],
      "id": "1-fLya6iLTjj"
    },
    {
      "cell_type": "code",
      "metadata": {
        "id": "xxChUvepuneH"
      },
      "source": [
        "class args:\n",
        "  arch = 'mixnet_xl'\n",
        "  # arch = 'efficientnet_b2' \n",
        "  batch_size = 15 #96\n",
        "  beta = .1\n",
        "  cudnn_benchmark = True\n",
        "  cudnn_deterministic = True\n",
        "  epochs = 110\n",
        "  # epochs = 15\n",
        "  folds = 8\n",
        "  gpu = 0\n",
        "  img_size = 224\n",
        "  img_mean_RGB = [0.47889522, 0.47227842, 0.43047404]\n",
        "  img_std_RGB = [0.229, 0.224, 0.225]\n",
        "  log_level =  'verbose' # options: verbose, None\n",
        "  lr = 0.0001 # learning rate\n",
        "  lr_min=0.00001 # min learning rate when using a LR Scheduler\n",
        "  momentum = 0.9 # a setting for Optimizer\n",
        "  warmup_epochs = 2 # a setting for Cosine LR Scheduler\n",
        "  num_classes = 3 # number of categories \n",
        "  num_workers = 8 \n",
        "  pretrained = True # determine if the weights of pre-build model should be used \n",
        "  print_freq = 50\n",
        "  project_name = 'skeggox'\n",
        "  resume = True # when it is True it will continue from last saved checkpoint\n",
        "  save_checkpoint = True # save both last and best acc checkpoints\n",
        "  save_checkpoint_per_epoch = True # save one file per epoch along best acc \n",
        "  seed = 1\n",
        "  schedular_type = 'step' # option: 'cosine', 'step'(DEFAULT)\n",
        "  start_epoch = 0\n",
        "  test_batch_size = 128\n",
        "  imgs_dir = 'grab/imgs'\n",
        "  train_batch_size = 128\n",
        "  warm = 4\n",
        "  warmup_lr_init = 0.00001 # for Cosine LR\n",
        "  weight_decay = 0.00001"
      ],
      "id": "xxChUvepuneH",
      "execution_count": null,
      "outputs": []
    },
    {
      "cell_type": "code",
      "metadata": {
        "id": "8Wu03UEBZ8w6"
      },
      "source": [
        "class state:\n",
        "  best_acc = 0\n",
        "  start_epoch = 0"
      ],
      "id": "8Wu03UEBZ8w6",
      "execution_count": null,
      "outputs": []
    },
    {
      "cell_type": "markdown",
      "metadata": {
        "id": "9kvoToUwMa_t"
      },
      "source": [
        "# Transformers"
      ],
      "id": "9kvoToUwMa_t"
    },
    {
      "cell_type": "code",
      "metadata": {
        "id": "Nm-XEV24Y9YR"
      },
      "source": [
        "class CustomTransforms():\n",
        "  def __init__(self):\n",
        "    self.train_transform = CustomTransforms.create_train_transform()\n",
        "    self.test_transform = CustomTransforms.create_test_transform()\n",
        "\n",
        "  @staticmethod\n",
        "  def create_train_transform():\n",
        "     return A.Compose([\n",
        "        A.Resize(args.img_size, args.img_size),\n",
        "        A.Blur(always_apply=True, p=1),\n",
        "        A.Rotate([-10,10], p=0.5),\n",
        "        # Note if we want LC and RC labled separately \n",
        "        #     then we need to remove  A.HorizontalFlip\n",
        "        A.HorizontalFlip(p=0.5), # this miror the image keep it \n",
        "        ToTensorV2(),\n",
        "        ])\n",
        "  @staticmethod\n",
        "  def create_test_transform():\n",
        "    return A.Compose([\n",
        "        A.Resize(args.img_size, args.img_size),\n",
        "        A.Blur(always_apply=True, p=1),\n",
        "        ToTensorV2(),\n",
        "    ])"
      ],
      "id": "Nm-XEV24Y9YR",
      "execution_count": null,
      "outputs": []
    },
    {
      "cell_type": "markdown",
      "metadata": {
        "id": "MMfdq8VJV0Jf"
      },
      "source": [
        "# Load Dataset"
      ],
      "id": "MMfdq8VJV0Jf"
    },
    {
      "cell_type": "code",
      "metadata": {
        "id": "2FYlDlLu2BMw"
      },
      "source": [
        "class SkeggoxDataset(Dataset):\n",
        "    def __init__(self, df, mode, img_dir, transform=None):\n",
        "        self.data = df\n",
        "        self.img_dir = img_dir\n",
        "        self.transform = transform\n",
        "        self.mode = mode\n",
        "\n",
        "    def __len__(self):\n",
        "        return len(self.data)\n",
        "\n",
        "    def __getitem__(self, idx):        \n",
        "        fname = self.data.iloc[idx]['filename']\n",
        "        img_path = (f'{self.img_dir}/{fname}')\n",
        "        image = cv2.imread(img_path)\n",
        "        if self.transform is not None:\n",
        "          image = self.transform(image = image)['image']\n",
        "        image = image.float() / 255.\n",
        "        label = -1 if self.mode=='test' else self.data.iloc[idx]['label']\n",
        "        \n",
        "        return image, label"
      ],
      "id": "2FYlDlLu2BMw",
      "execution_count": null,
      "outputs": []
    },
    {
      "cell_type": "code",
      "metadata": {
        "id": "A-cW3-PnGAix"
      },
      "source": [
        "class DataCollections():\n",
        "  def __init__(self):\n",
        "    self.load_datasets()\n",
        "    self.build_dataloaders()\n",
        "\n",
        "  def load_datasets(self):\n",
        "    csv_folder = f'{args.imgs_dir}/..'\n",
        "    tr_val_df = pd.read_csv(f'{csv_folder}/train.csv')\n",
        "    tstdf = pd.read_csv(f'{csv_folder}/test.csv')\n",
        "\n",
        "    trndf = pd.DataFrame()\n",
        "    valdf = pd.DataFrame()\n",
        "\n",
        "    # Split the training dataset into a training and a validation\n",
        "    y = tr_val_df['label']\n",
        "    trndf['filename'], valdf['filename'], trndf['label'], valdf['label'] = \\\n",
        "    train_test_split( tr_val_df['filename'], y, test_size=0.10, \n",
        "                     random_state=4, stratify=y)\n",
        "\n",
        "    if args.log_level == 'verbose':\n",
        "      print('tr_val_df:', tr_val_df.shape, 'train:', trndf.shape,\n",
        "          'val:', valdf.shape, 'test', tstdf.shape)\n",
        "      labels = [1, 3, 5, 10, 11, 12]\n",
        "      dfs = { 'train':trndf,'val': valdf, 'test':tstdf}\n",
        "      for df_key in dfs:\n",
        "        df = dfs.get(df_key)\n",
        "        total = df.shape[0]\n",
        "        print(df_key, 'total:', total)\n",
        "        [print(df_key, total, l, df[df['label']==l].shape[0]/total) for l in labels]\n",
        "\n",
        "    custom_transforms = CustomTransforms()\n",
        "\n",
        "    self.train_dataset = SkeggoxDataset(trndf,  'train', args.imgs_dir,  custom_transforms.train_transform)\n",
        "    self.validate_dataset = SkeggoxDataset(valdf, 'train', args.imgs_dir, custom_transforms.train_transform)\n",
        "    self.test_dataset = SkeggoxDataset(tstdf, 'test', args.imgs_dir, custom_transforms.test_transform)\n",
        "\n",
        "  def build_dataloaders(self):\n",
        "    loaderargs = {'num_workers' : args.num_workers, 'batch_size':args.batch_size,\n",
        "                  'pin_memory': False, 'drop_last': False}\n",
        "  \n",
        "    self.train_dataloader = DataLoader(self.train_dataset, shuffle = True, **loaderargs)\n",
        "    self.validate_dataloader = DataLoader(self.validate_dataset, shuffle = False, **loaderargs)\n",
        "    self.test_dataloader = DataLoader(self.test_dataset, shuffle = False, **loaderargs)"
      ],
      "id": "A-cW3-PnGAix",
      "execution_count": null,
      "outputs": []
    },
    {
      "cell_type": "markdown",
      "metadata": {
        "id": "PfKQJU2DRJA1"
      },
      "source": [
        "# Save and Resume "
      ],
      "id": "PfKQJU2DRJA1"
    },
    {
      "cell_type": "code",
      "metadata": {
        "id": "YBq5H7oLRL4a"
      },
      "source": [
        "def save_checkpoint(state, is_best):\n",
        "  if args.save_checkpoint or args.save_checkpoint_per_epoch:\n",
        "    folder = 'checkpoints/'\n",
        "    filename = f'{folder}checkpoint.pth.tar'\n",
        "    torch.save(state,  filename)\n",
        "    if args.save_checkpoint_per_epoch:\n",
        "      shutil.copyfile(filename, f'{folder}checkpoint_{state[\"epoch\"]}.pth.tar')\n",
        "    if is_best:\n",
        "      shutil.copyfile(filename, f'{folder}model_best.pth.tar')"
      ],
      "id": "YBq5H7oLRL4a",
      "execution_count": null,
      "outputs": []
    },
    {
      "cell_type": "code",
      "metadata": {
        "id": "dXLvntHqRNwc"
      },
      "source": [
        "def resume(sk_model, filename = 'checkpoints/checkpoint.pth.tar' ):\n",
        "  if args.resume:\n",
        "    if os.path.isfile(filename):\n",
        "      print(f'=> loading checkpoint: {filename}')\n",
        "      checkpoint = torch.load(filename, map_location=sk_model.device)\n",
        "      state.start_epoch = checkpoint['epoch']\n",
        "      state.best_acc = checkpoint['best_acc']\n",
        "      # state.best_acc = best_acc.to(GPU)\n",
        "      sk_model.model.load_state_dict(checkpoint['state_dict'])\n",
        "      sk_model.optimizer.load_state_dict(checkpoint['optimizer'])\n",
        "      print(f'=> loaded checkpoint {filename}',\n",
        "            f'epoch {state.start_epoch}')\n",
        "    else:\n",
        "        print(f'=> no checkpoint found at {filename}')"
      ],
      "id": "dXLvntHqRNwc",
      "execution_count": null,
      "outputs": []
    },
    {
      "cell_type": "code",
      "metadata": {
        "id": "ItN4IUzuLc5C"
      },
      "source": [
        "def load_best_model(sk_model, filename = 'checkpoints/model_best.pth.tar' ):\n",
        "  if args.resume:\n",
        "    if os.path.isfile(filename):\n",
        "      print(f'=> loading checkpoint: {filename}')\n",
        "      checkpoint = torch.load(filename, map_location=sk_model.device)\n",
        "      state.start_epoch = checkpoint['epoch']\n",
        "      state.best_acc = checkpoint['best_acc']\n",
        "      # state.best_acc = best_acc.to(GPU)\n",
        "      sk_model.model.load_state_dict(checkpoint['state_dict'])\n",
        "      sk_model.optimizer.load_state_dict(checkpoint['optimizer'])\n",
        "      print(f'=> loaded checkpoint {filename}',\n",
        "            f'epoch {state.start_epoch}')\n",
        "    else:\n",
        "        print(f'=> no checkpoint found at {filename}')"
      ],
      "id": "ItN4IUzuLc5C",
      "execution_count": null,
      "outputs": []
    },
    {
      "cell_type": "markdown",
      "metadata": {
        "id": "5PLY3SmuegXa"
      },
      "source": [
        "# Set Model"
      ],
      "id": "5PLY3SmuegXa"
    },
    {
      "cell_type": "code",
      "metadata": {
        "id": "aD9LErtXstcB"
      },
      "source": [
        "class SkeggoxMetrics:\n",
        "  def __init__(self):\n",
        "    self.lr_list = []"
      ],
      "id": "aD9LErtXstcB",
      "execution_count": null,
      "outputs": []
    },
    {
      "cell_type": "code",
      "metadata": {
        "id": "eu-Vb6wfekNW"
      },
      "source": [
        "# Label Smoothing for Cross Entropy Loss fucntion\n",
        "# From https://github.com/pytorch/pytorch/issues/7455#issuecomment-759175034\n",
        "class LabelSmoothCrossEntropyLoss(_WeightedLoss):\n",
        "    def __init__(self, weight=None, reduction='mean', smoothing=0.0):\n",
        "        super().__init__(weight=weight, reduction=reduction)\n",
        "        self.smoothing = smoothing\n",
        "        self.weight = weight\n",
        "        self.reduction = reduction\n",
        "\n",
        "    @staticmethod\n",
        "    def _smooth_one_hot(targets: torch.Tensor, n_classes: int, smoothing=0.0):\n",
        "        assert 0 <= smoothing < 1\n",
        "        with torch.no_grad():\n",
        "            targets = torch.empty(size=(targets.size(0), n_classes),\n",
        "                                  device=targets.device) \\\n",
        "                .fill_(smoothing / (n_classes - 1)) \\\n",
        "                .scatter_(1, targets.data.unsqueeze(1), 1. - smoothing)\n",
        "        return targets\n",
        "\n",
        "    def forward(self, inputs, targets):\n",
        "        targets = LabelSmoothCrossEntropyLoss._smooth_one_hot(targets, inputs.size(-1),\n",
        "                                                              self.smoothing)\n",
        "        lsm = F.log_softmax(inputs, -1)\n",
        "\n",
        "        if self.weight is not None:\n",
        "            lsm = lsm * self.weight.unsqueeze(0)\n",
        "\n",
        "        loss = -(targets * lsm).sum(-1)\n",
        "\n",
        "        if self.reduction == 'sum':\n",
        "            loss = loss.sum()\n",
        "        elif self.reduction == 'mean':\n",
        "            loss = loss.mean()\n",
        "\n",
        "        return loss"
      ],
      "id": "eu-Vb6wfekNW",
      "execution_count": null,
      "outputs": []
    },
    {
      "cell_type": "code",
      "metadata": {
        "id": "C27jMuA7KmOp"
      },
      "source": [
        "class SkeggoxModel():\n",
        "  def __init__(self, device, arch, num_steps, pretrained = False):\n",
        "    self.device = device\n",
        "    self.pretrained = pretrained\n",
        "    self.arch = arch\n",
        "    self.num_steps = num_steps\n",
        "    self.metrics = SkeggoxMetrics()\n",
        "\n",
        "    self.create_model()\n",
        "    self.create_criterion()\n",
        "    self.create_optimizer()\n",
        "    self.create_scheduler()\n",
        "    # define scaler for Mixed Precision\n",
        "    self.scaler = GradScaler()\n",
        "    \n",
        "  \n",
        "  def create_model(self):\n",
        "    # TODO you can add custom model instead of using pre-built model here\n",
        "    model = timm.create_model(self.arch, pretrained = self.pretrained)\n",
        "    # # model = models.__dict__[args.arch]()\n",
        "    # inf = model.fc.in_features\n",
        "    # model.fc = nn.Linear(inf, args.num_classes)\n",
        "    # model.cuda(args.gpu)\n",
        "    self.model = model.to(self.device)\n",
        "\n",
        "  def create_criterion(self):\n",
        "    ## Non-smoothing version\n",
        "    # self.criterion = torch.nn.CrossEntropyLoss()\n",
        "    ## the smoothing version\n",
        "    self.criterion = LabelSmoothCrossEntropyLoss(smoothing=0.3)\n",
        "  \n",
        "  def create_optimizer(self):\n",
        "    # Adam Optimizer\n",
        "    self.optimizer = torch.optim.Adam(self.model.parameters(), lr=args.lr)\n",
        "    # SGD Optimizer\n",
        "    # self.optimizer =  torch.optim.SGD(self.model.parameters(), \n",
        "    #                        args.lr,\n",
        "    #                        momentum=args.momentum,\n",
        "    #                        weight_decay=args.weight_decay)\n",
        "\n",
        "  def create_scheduler(self):\n",
        "    if args.schedular_type == 'cosine':\n",
        "      # Cosine LR\n",
        "      steps = self.num_steps\n",
        "      self.scheduler = CosineLRScheduler(\n",
        "              self.optimizer,\n",
        "              t_initial = steps * args.epochs + 1,\n",
        "              lr_min = args.lr_min,\n",
        "              warmup_lr_init = args.warmup_lr_init,\n",
        "              warmup_t = steps * args.warmup_epochs + 1)\n",
        "    else:\n",
        "      # step LR\n",
        "      self.scheduler = lr_scheduler.StepLR(self.optimizer, step_size=10)"
      ],
      "id": "C27jMuA7KmOp",
      "execution_count": null,
      "outputs": []
    },
    {
      "cell_type": "markdown",
      "metadata": {
        "id": "-UurKZ8vUlH9"
      },
      "source": [
        "# Train and Validate"
      ],
      "id": "-UurKZ8vUlH9"
    },
    {
      "cell_type": "code",
      "metadata": {
        "id": "JBCDvb00Qk_u"
      },
      "source": [
        "def train(sk_model, dl, global_step):\n",
        "  print(f'Epoch {epoch}/{args.epochs - 1}')\n",
        "  device = sk_model.device\n",
        "  model = sk_model.model\n",
        "  metrics = sk_model.metrics\n",
        "  optimizer = sk_model.optimizer\n",
        "  scaler = sk_model.scaler\n",
        "  sk_model.scheduler.step(global_step) if args.schedular_type == 'cosine' \\\n",
        "      else sk_model.scheduler.step()\n",
        " \n",
        "  model.train()\n",
        "  running_loss = 0.0\n",
        "  train_d = dl.train_dataloader\n",
        "  tk0 = tqdm(train_d, total=int(len(train_d)))\n",
        "  for step, batch in enumerate(tk0):\n",
        "      inputs = batch[0].to(device, dtype=torch.float)\n",
        "      labels = batch[1].to(device).long()\n",
        "\n",
        "      ## Mixup\n",
        "      # Get out a random value form a distribution    \n",
        "      lam = np.random.beta(args.beta, args.beta)\n",
        "      rand_index = torch.randperm(inputs.size()[0]).to(device) # make an index which reorders the batch\n",
        "\n",
        "      # Reorder the labels\n",
        "      labels_a = labels\n",
        "      labels_b = labels[rand_index]\n",
        "\n",
        "      # Partially mixup up the batch\n",
        "      inputs_mixed = lam * inputs + (1 - lam) * inputs[rand_index]\n",
        "\n",
        "      optimizer.zero_grad()\n",
        "\n",
        "      # Runs the forward pass with autocasting.\n",
        "      with autocast():\n",
        "          # using mixed up input for model\n",
        "          outputs = model(inputs_mixed)            \n",
        "          # Partial loss against original labels, partial loss against mixed up labels\n",
        "          loss = sk_model.criterion(outputs, labels_a) * lam + \\\n",
        "              sk_model.criterion(outputs, labels_b) * (1. - lam)\n",
        "      \n",
        "\n",
        "      # outputs = model(inputs)\n",
        "      # loss = sk_model.criterion(outputs, labels)\n",
        "\n",
        "      # Scaler\n",
        "      scaler.scale(loss).backward()\n",
        "      scaler.step(optimizer)\n",
        "      scaler.update()\n",
        "\n",
        "      # non-scaler\n",
        "      # loss.backward()\n",
        "      # optimizer.step()\n",
        "\n",
        "      running_loss += loss.item()\n",
        "      tk0.set_postfix(train_loss=(running_loss / (step+1)))\n",
        "\n",
        "      global_step += 1\n",
        "      # print(optimizer.param_groups[0]['lr'])\n",
        "      metrics.lr_list.append(optimizer.param_groups[0]['lr']) \n"
      ],
      "id": "JBCDvb00Qk_u",
      "execution_count": null,
      "outputs": []
    },
    {
      "cell_type": "code",
      "metadata": {
        "id": "0Zu2Q4HASFyI"
      },
      "source": [
        "def validate(sk_model, dl):\n",
        "  valpreds = []\n",
        "  device = sk_model.device\n",
        "  model = sk_model.model\n",
        "  model.eval()\n",
        "  running_loss = 0.0\n",
        "  val_d = dl.validate_dataloader\n",
        "  tkval = tqdm(val_d, total=int(len(val_d)))\n",
        "  for step, batch in enumerate(tkval):\n",
        "      inputs = batch[0].to(device, dtype=torch.float)\n",
        "      labels = batch[1].to(device).long()\n",
        "      with torch.no_grad():\n",
        "          outputs = model(inputs)\n",
        "          loss = sk_model.criterion(outputs, labels)\n",
        "      valpreds.append(outputs)\n",
        "      running_loss += loss.item()\n",
        "      tkval.set_postfix(valid_loss=(running_loss / (step+1)))\n",
        "  preds = torch.cat(valpreds).argmax(1).detach().cpu().numpy()\n",
        "  acc = (dl.validate_dataset.data.label.values == preds).mean()\n",
        "  print(f'Valid accuracy {acc:.4f}')\n",
        "  # print confusion matrix\n",
        "  if args.log_level == 'verbose':\n",
        "    print(confusion_matrix(dl.validate_dataset.data.label.values, preds))\n",
        "    print(dl.validate_dataset.data.label.values)\n",
        "  \n",
        "  is_best = acc > state.best_acc\n",
        "  state.best_acc = max(acc, state.best_acc)\n",
        "\n",
        "  # Save every 2 epochs\n",
        "  if is_best or epoch % 5 == 0 or epoch == args.epochs-1:\n",
        "    save_checkpoint({\n",
        "        'epoch': epoch + 1,\n",
        "        'step': step + 1,\n",
        "        'arch': args.arch,\n",
        "        'state_dict': model.state_dict(),\n",
        "        'best_acc':  state.best_acc,\n",
        "        'optimizer' : sk_model.optimizer.state_dict(),\n",
        "    }, is_best)"
      ],
      "id": "0Zu2Q4HASFyI",
      "execution_count": null,
      "outputs": []
    },
    {
      "cell_type": "markdown",
      "metadata": {
        "id": "H0A670XhUjOm"
      },
      "source": [
        "# Run"
      ],
      "id": "H0A670XhUjOm"
    },
    {
      "cell_type": "code",
      "metadata": {
        "colab": {
          "base_uri": "https://localhost:8080/",
          "height": 1000,
          "referenced_widgets": [
            "29e8e132536d4937805903256d66e0c4",
            "b24dc025c92b43eda2a60800e568ae22",
            "1f627698acc74108abc3c907b17a780d",
            "4dd17cc5bd424e61ab4318445358672a",
            "e4ee62aa41624f0d8d8a87447459f8d5",
            "c22db6d4107540918b8df8999261e6b7",
            "4eccb8399ebd4282a15fe83f2841c2aa",
            "2f3a5bf0816b479b9349abadb831659c"
          ]
        },
        "id": "SZEKWiyhQf4K",
        "outputId": "a0e19835-3da2-4cd4-a390-f7e84ec49767"
      },
      "source": [
        "# %%capture cap --no-stderr\n",
        "\n",
        "since = time.time()\n",
        "dl = DataCollections()\n",
        "device = torch.device(\"cuda:0\")\n",
        "sk_model = SkeggoxModel(device, args.arch, len(dl.train_dataloader), pretrained = True)\n",
        "global_step = 0\n",
        "state.best_acc = 0\n",
        "resume(sk_model)\n",
        "for epoch in range(state.start_epoch, args.epochs):\n",
        "  train(sk_model, dl, global_step)\n",
        "  validate(sk_model, dl)\n",
        "# with open('output.txt', 'w') as f:\n",
        "#     f.write(str(cap))"
      ],
      "id": "SZEKWiyhQf4K",
      "execution_count": null,
      "outputs": [
        {
          "name": "stdout",
          "output_type": "stream",
          "text": [
            "tr_val_df: (2576, 2) train: (2318, 2) val: (258, 2) test (455, 2)\n",
            "train total: 2318\n",
            "train 2318 1 0.04874892148403796\n",
            "train 2318 3 0.20103537532355478\n",
            "train 2318 5 0.5241587575496117\n",
            "train 2318 10 0.027178602243313203\n",
            "train 2318 11 0.10310612597066436\n",
            "train 2318 12 0.0\n",
            "val total: 258\n",
            "val 258 1 0.050387596899224806\n",
            "val 258 3 0.20155038759689922\n",
            "val 258 5 0.5232558139534884\n",
            "val 258 10 0.027131782945736434\n",
            "val 258 11 0.10077519379844961\n",
            "val 258 12 0.0\n",
            "test total: 455\n",
            "test 455 1 0.04835164835164835\n",
            "test 455 3 0.2021978021978022\n",
            "test 455 5 0.5230769230769231\n",
            "test 455 10 0.026373626373626374\n",
            "test 455 11 0.10329670329670329\n",
            "test 455 12 0.0\n",
            "=> loading checkpoint: checkpoints/checkpoint.pth.tar\n",
            "=> loaded checkpoint checkpoints/checkpoint.pth.tar epoch 96\n",
            "Epoch 96/99\n"
          ]
        },
        {
          "data": {
            "application/vnd.jupyter.widget-view+json": {
              "model_id": "29e8e132536d4937805903256d66e0c4",
              "version_major": 2,
              "version_minor": 0
            },
            "text/plain": [
              "  0%|          | 0/155 [00:00<?, ?it/s]"
            ]
          },
          "metadata": {},
          "output_type": "display_data"
        },
        {
          "data": {
            "application/vnd.jupyter.widget-view+json": {
              "model_id": "b24dc025c92b43eda2a60800e568ae22",
              "version_major": 2,
              "version_minor": 0
            },
            "text/plain": [
              "  0%|          | 0/18 [00:00<?, ?it/s]"
            ]
          },
          "metadata": {},
          "output_type": "display_data"
        },
        {
          "name": "stdout",
          "output_type": "stream",
          "text": [
            "Valid accuracy 0.8721\n",
            "[[ 22   2   0   0   0   1]\n",
            " [  2  10   1   0   0   0]\n",
            " [  0   3  36  13   0   0]\n",
            " [  0   0   8 127   0   0]\n",
            " [  0   0   0   0   7   0]\n",
            " [  3   0   0   0   0  23]]\n",
            "[ 1  0  5 11  3  5  5  5  3  5 11  0  5  5  5  5  1  5  3  5 10  5  0  5\n",
            "  5  3  3 11  5  5  0  5  5  5  5  5  3  0  5 11  5  5 11 11 11  5 11  5\n",
            "  5  5  3  5  5  5  5  5  5  3  3  5  5 10  0 11  3  5  5  5  5  5  5  5\n",
            "  3  5  5  5  5  1  0  5  3  5  0  5  5  3  5 11  5 11  1  5  1  5  5  5\n",
            "  5  5  0 10  5 11  3  3  0 11  5  0  5  5  0  3  3  3  5  5  5  5  1  0\n",
            "  3  3  5 10  5 11  3  3  5  5  5  3  5  5  5  0  5  1  5  5  0  5  5  3\n",
            "  0  5  3  3 11  5  3  5  5  5  1  0  5  3  0  3 11  5  5  3 11  0  1  5\n",
            " 10  5  5  5  5  5  5  0  3  3  3  5  5  5 11  3  3  3  1  5  5  1  5  3\n",
            "  5  3  3  0  3  3  5  5  3 11  5  3  5  0  0 11  5  3  5 11  5  3  5  3\n",
            "  5  5  3  3  5 11  5  1  5  1  5  5  5 11 10  5  5  5  5  0  3 11  3 11\n",
            "  5  5  5  5  3  5 10  5  0  5  5  5  3 11  5  5  5  5]\n",
            "Epoch 97/99\n"
          ]
        },
        {
          "data": {
            "application/vnd.jupyter.widget-view+json": {
              "model_id": "1f627698acc74108abc3c907b17a780d",
              "version_major": 2,
              "version_minor": 0
            },
            "text/plain": [
              "  0%|          | 0/155 [00:00<?, ?it/s]"
            ]
          },
          "metadata": {},
          "output_type": "display_data"
        },
        {
          "data": {
            "application/vnd.jupyter.widget-view+json": {
              "model_id": "4dd17cc5bd424e61ab4318445358672a",
              "version_major": 2,
              "version_minor": 0
            },
            "text/plain": [
              "  0%|          | 0/18 [00:00<?, ?it/s]"
            ]
          },
          "metadata": {},
          "output_type": "display_data"
        },
        {
          "name": "stdout",
          "output_type": "stream",
          "text": [
            "Valid accuracy 0.8876\n",
            "[[ 22   2   0   0   0   1]\n",
            " [  2  11   0   0   0   0]\n",
            " [  0   1  40  11   0   0]\n",
            " [  0   0   6 129   0   0]\n",
            " [  0   0   0   0   7   0]\n",
            " [  6   0   0   0   0  20]]\n",
            "[ 1  0  5 11  3  5  5  5  3  5 11  0  5  5  5  5  1  5  3  5 10  5  0  5\n",
            "  5  3  3 11  5  5  0  5  5  5  5  5  3  0  5 11  5  5 11 11 11  5 11  5\n",
            "  5  5  3  5  5  5  5  5  5  3  3  5  5 10  0 11  3  5  5  5  5  5  5  5\n",
            "  3  5  5  5  5  1  0  5  3  5  0  5  5  3  5 11  5 11  1  5  1  5  5  5\n",
            "  5  5  0 10  5 11  3  3  0 11  5  0  5  5  0  3  3  3  5  5  5  5  1  0\n",
            "  3  3  5 10  5 11  3  3  5  5  5  3  5  5  5  0  5  1  5  5  0  5  5  3\n",
            "  0  5  3  3 11  5  3  5  5  5  1  0  5  3  0  3 11  5  5  3 11  0  1  5\n",
            " 10  5  5  5  5  5  5  0  3  3  3  5  5  5 11  3  3  3  1  5  5  1  5  3\n",
            "  5  3  3  0  3  3  5  5  3 11  5  3  5  0  0 11  5  3  5 11  5  3  5  3\n",
            "  5  5  3  3  5 11  5  1  5  1  5  5  5 11 10  5  5  5  5  0  3 11  3 11\n",
            "  5  5  5  5  3  5 10  5  0  5  5  5  3 11  5  5  5  5]\n",
            "Epoch 98/99\n"
          ]
        },
        {
          "data": {
            "application/vnd.jupyter.widget-view+json": {
              "model_id": "e4ee62aa41624f0d8d8a87447459f8d5",
              "version_major": 2,
              "version_minor": 0
            },
            "text/plain": [
              "  0%|          | 0/155 [00:00<?, ?it/s]"
            ]
          },
          "metadata": {},
          "output_type": "display_data"
        },
        {
          "data": {
            "application/vnd.jupyter.widget-view+json": {
              "model_id": "c22db6d4107540918b8df8999261e6b7",
              "version_major": 2,
              "version_minor": 0
            },
            "text/plain": [
              "  0%|          | 0/18 [00:00<?, ?it/s]"
            ]
          },
          "metadata": {},
          "output_type": "display_data"
        },
        {
          "name": "stdout",
          "output_type": "stream",
          "text": [
            "Valid accuracy 0.8798\n",
            "[[ 21   1   0   0   0   3]\n",
            " [  1  12   0   0   0   0]\n",
            " [  0   1  40  11   0   0]\n",
            " [  0   0   9 126   0   0]\n",
            " [  0   0   0   0   7   0]\n",
            " [  5   0   0   0   0  21]]\n",
            "[ 1  0  5 11  3  5  5  5  3  5 11  0  5  5  5  5  1  5  3  5 10  5  0  5\n",
            "  5  3  3 11  5  5  0  5  5  5  5  5  3  0  5 11  5  5 11 11 11  5 11  5\n",
            "  5  5  3  5  5  5  5  5  5  3  3  5  5 10  0 11  3  5  5  5  5  5  5  5\n",
            "  3  5  5  5  5  1  0  5  3  5  0  5  5  3  5 11  5 11  1  5  1  5  5  5\n",
            "  5  5  0 10  5 11  3  3  0 11  5  0  5  5  0  3  3  3  5  5  5  5  1  0\n",
            "  3  3  5 10  5 11  3  3  5  5  5  3  5  5  5  0  5  1  5  5  0  5  5  3\n",
            "  0  5  3  3 11  5  3  5  5  5  1  0  5  3  0  3 11  5  5  3 11  0  1  5\n",
            " 10  5  5  5  5  5  5  0  3  3  3  5  5  5 11  3  3  3  1  5  5  1  5  3\n",
            "  5  3  3  0  3  3  5  5  3 11  5  3  5  0  0 11  5  3  5 11  5  3  5  3\n",
            "  5  5  3  3  5 11  5  1  5  1  5  5  5 11 10  5  5  5  5  0  3 11  3 11\n",
            "  5  5  5  5  3  5 10  5  0  5  5  5  3 11  5  5  5  5]\n",
            "Epoch 99/99\n"
          ]
        },
        {
          "data": {
            "application/vnd.jupyter.widget-view+json": {
              "model_id": "4eccb8399ebd4282a15fe83f2841c2aa",
              "version_major": 2,
              "version_minor": 0
            },
            "text/plain": [
              "  0%|          | 0/155 [00:00<?, ?it/s]"
            ]
          },
          "metadata": {},
          "output_type": "display_data"
        },
        {
          "data": {
            "application/vnd.jupyter.widget-view+json": {
              "model_id": "2f3a5bf0816b479b9349abadb831659c",
              "version_major": 2,
              "version_minor": 0
            },
            "text/plain": [
              "  0%|          | 0/18 [00:00<?, ?it/s]"
            ]
          },
          "metadata": {},
          "output_type": "display_data"
        },
        {
          "name": "stdout",
          "output_type": "stream",
          "text": [
            "Valid accuracy 0.8798\n",
            "[[ 21   2   0   0   0   2]\n",
            " [  2  10   1   0   0   0]\n",
            " [  0   1  39  12   0   0]\n",
            " [  0   0   8 127   0   0]\n",
            " [  0   0   0   0   7   0]\n",
            " [  3   0   0   0   0  23]]\n",
            "[ 1  0  5 11  3  5  5  5  3  5 11  0  5  5  5  5  1  5  3  5 10  5  0  5\n",
            "  5  3  3 11  5  5  0  5  5  5  5  5  3  0  5 11  5  5 11 11 11  5 11  5\n",
            "  5  5  3  5  5  5  5  5  5  3  3  5  5 10  0 11  3  5  5  5  5  5  5  5\n",
            "  3  5  5  5  5  1  0  5  3  5  0  5  5  3  5 11  5 11  1  5  1  5  5  5\n",
            "  5  5  0 10  5 11  3  3  0 11  5  0  5  5  0  3  3  3  5  5  5  5  1  0\n",
            "  3  3  5 10  5 11  3  3  5  5  5  3  5  5  5  0  5  1  5  5  0  5  5  3\n",
            "  0  5  3  3 11  5  3  5  5  5  1  0  5  3  0  3 11  5  5  3 11  0  1  5\n",
            " 10  5  5  5  5  5  5  0  3  3  3  5  5  5 11  3  3  3  1  5  5  1  5  3\n",
            "  5  3  3  0  3  3  5  5  3 11  5  3  5  0  0 11  5  3  5 11  5  3  5  3\n",
            "  5  5  3  3  5 11  5  1  5  1  5  5  5 11 10  5  5  5  5  0  3 11  3 11\n",
            "  5  5  5  5  3  5 10  5  0  5  5  5  3 11  5  5  5  5]\n"
          ]
        }
      ]
    },
    {
      "cell_type": "markdown",
      "metadata": {
        "id": "nftDew-WYG8d"
      },
      "source": [
        "# Confusion Matrix"
      ],
      "id": "nftDew-WYG8d"
    },
    {
      "cell_type": "code",
      "metadata": {
        "id": "tM3WgTTxpqRn"
      },
      "source": [
        "def predict_validate_dataset():\n",
        "  valpreds = []\n",
        "  val_d = dl.validate_dataloader\n",
        "  tkval = tqdm(val_d, total=int(len(val_d)))\n",
        "  for step, batch in enumerate(tkval):\n",
        "    inputs = batch[0].to(device, dtype=torch.float)\n",
        "    labels = batch[1].to(device).long()\n",
        "    with torch.no_grad():\n",
        "      # predict\n",
        "      outputs = sk_model.model(inputs)\n",
        "      valpreds.append(outputs)\n",
        "  preds = torch.cat(valpreds).argmax(1).detach().cpu().numpy()\n",
        "  acc = (dl.validate_dataset.data.label.values == preds).mean()\n",
        "  print(f'Test accuracy {acc:.4f}')  \n",
        "  return preds, confusion_matrix(dl.validate_dataset.data.label.values, preds)"
      ],
      "id": "tM3WgTTxpqRn",
      "execution_count": null,
      "outputs": []
    },
    {
      "cell_type": "code",
      "metadata": {
        "id": "sMA5g2SfYf_k"
      },
      "source": [
        "def predict_test_dataset():\n",
        "  test_preds = []\n",
        "  data_loader = dl.test_dataloader\n",
        "  tk = tqdm(data_loader, total=int(len(data_loader)))\n",
        "  # load best model\n",
        "  load_best_model(sk_model)\n",
        "  for step, batch in enumerate(tk):\n",
        "    inputs = batch[0].to(device, dtype=torch.float)\n",
        "    labels = batch[1].to(device).long()\n",
        "    with torch.no_grad():\n",
        "      # predict\n",
        "      outputs = sk_model.model(inputs)\n",
        "      test_preds.append(outputs)\n",
        "  preds = torch.cat(test_preds).argmax(1).detach().cpu().numpy()\n",
        "  acc = (dl.test_dataset.data.label.values == preds).mean()\n",
        "  print(f'Test accuracy {acc:.4f}')  \n",
        "  return preds, confusion_matrix(dl.test_dataset.data.label.values, preds)"
      ],
      "id": "sMA5g2SfYf_k",
      "execution_count": null,
      "outputs": []
    },
    {
      "cell_type": "code",
      "metadata": {
        "colab": {
          "base_uri": "https://localhost:8080/",
          "height": 1000,
          "referenced_widgets": [
            "20550ade432a4d8e92a9b870962b70eb",
            "f1cccf2cdcb041f1bce35d5787bba857",
            "05a4cd30fc1e4d688a4c8f6ed5aa7c32",
            "749b277ffb0b4f6b87429d0405ce6406",
            "03e6207be5cd4977a409276849ec9a65",
            "52a9944768894b658aa91b64b33b8751",
            "f79b48b3d52f4ec5b4aea06d04caf0b7",
            "d5e869a4f4054c8baf85dd53d4d2fb97",
            "5d14a7bf8cc24623af8732203be52b40",
            "930ddc2680644b828d33d07928bb5597",
            "f9f99b1878ae4418b6473e1061096d0f"
          ]
        },
        "id": "zmzOX6smxhp3",
        "outputId": "62966752-ef13-4013-8ebf-0683c9388d94"
      },
      "source": [
        "def draw_confusion_matrix():\n",
        "  target_names = ['0', '1', '3', '5', '10', '11']\n",
        "\n",
        "  preds, confusion_matrix_data =  predict_test_dataset()\n",
        "  print(dl.test_dataset.data.label.values[dl.test_dataset.data.label.values == preds])\n",
        "  # preds, confusion_matrix_data =  predict_validate_dataset()\n",
        "  df_cm = pd.DataFrame(confusion_matrix_data, columns=target_names, index = target_names)\n",
        "  df_cm.index.name = 'Actual'\n",
        "  df_cm.columns.name = 'Predicted'\n",
        "  plt.figure(figsize = (14,11))\n",
        "  sn.set(font_scale=1.4)#for label size\n",
        "  sn.heatmap(df_cm, cmap=\"Blues\", annot=True,annot_kws={\"size\": 16})# font size\n",
        "draw_confusion_matrix()"
      ],
      "id": "zmzOX6smxhp3",
      "execution_count": null,
      "outputs": [
        {
          "data": {
            "application/vnd.jupyter.widget-view+json": {
              "model_id": "20550ade432a4d8e92a9b870962b70eb",
              "version_major": 2,
              "version_minor": 0
            },
            "text/plain": [
              "  0%|          | 0/31 [00:00<?, ?it/s]"
            ]
          },
          "metadata": {},
          "output_type": "display_data"
        },
        {
          "name": "stdout",
          "output_type": "stream",
          "text": [
            "=> loading checkpoint: checkpoints/model_best.pth.tar\n",
            "=> loaded checkpoint checkpoints/model_best.pth.tar epoch 9\n",
            "Test accuracy 0.8813\n",
            "[ 5  3 10 11  5  5  5  3  5  5  5  5  5  5  3  5  3  5  5  5  0  5  5  5\n",
            "  3 10 11  3  0  0 11  0  3  3  3  5  5 10  5 11  5  0  5  5  5  5  3  1\n",
            "  5  5  5  5  5  3  0 11  0  5  1  5  5  3  5  5 11  5  5  1  5  3  5  5\n",
            "  5 11  3  5  5  3  5 11  5  5  5  5  3  5  5  3  3  5  3  5  5  5  5  5\n",
            "  5 10  5  5  5  0  5  5  3  5 10  5  5  5  5  5  0  5  5  5 11  3  0  5\n",
            "  3  5  5 11  0  5  5  5 11  3  5  3  5  3  5  5 10  3  3  5  0  5  5  5\n",
            "  5  3  1  1 11  3 11  0  5  3  0  3  5 11  5  5  3  5  3  5  5  0  5  5\n",
            "  5  5  1  5  3  3  5  5  5  5  0  5  3  3 11  5  0  5  0  5 10  5  5  5\n",
            "  5  3  0 11 10  5  5  3  5  5  5  5 11  5  3  5  3  5  3  5  5  5  5  5\n",
            "  1  5 11 11  5  3  1  5  3  5  5  0  5  3  5  0  5 11  5 11  5  5  1 11\n",
            "  5 11  5  5  3  1  5  5  5  5 10  5  5  5  5  3  5  5  5  5  5  5  5  5\n",
            "  5  5  5  1 11  1  5  5  3  3  0  5  5  5  5  3  3  3  3  5  5  5  5  5\n",
            "  3  5  5  3  5 10  5  5  3  3  5  5  5  5  0  0  0 11  1  5  5  5  5  3\n",
            "  5  5  5  5  5 11  0  5  3 11  5  0  5  1 11  5  1  0 11  3  3  3  5  3\n",
            "  0  5 11  3  3  3 11  5  5  5  3  5 11 11  0  5 11  5  0 11  5  5  3  5\n",
            "  5  5 11  5  0 11  1  5  5  3  5  5  1 10  0  3  5  5  3  0 11  5  5  3\n",
            " 11 11  3  3  0  5 10  5  5  5  3  5  5  3 11  5  3]\n"
          ]
        },
        {
          "data": {
            "image/png": "[encoded data removed]",
            "text/plain": [
              "<Figure size 1008x792 with 2 Axes>"
            ]
          },
          "metadata": {},
          "output_type": "display_data"
        }
      ]
    },
    {
      "cell_type": "code",
      "metadata": {
        "colab": {
          "base_uri": "https://localhost:8080/"
        },
        "id": "l7EU2GwiOka0",
        "outputId": "2cbab37f-1a71-4b2c-daec-f699e04333d8"
      },
      "source": [
        "state.best_acc"
      ],
      "id": "l7EU2GwiOka0",
      "execution_count": null,
      "outputs": [
        {
          "data": {
            "text/plain": [
              "0.8992248062015504"
            ]
          },
          "execution_count": 23,
          "metadata": {},
          "output_type": "execute_result"
        }
      ]
    }
  ]
}